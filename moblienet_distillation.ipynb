{
 "cells": [
  {
   "cell_type": "code",
   "execution_count": 1,
   "metadata": {},
   "outputs": [
    {
     "name": "stderr",
     "output_type": "stream",
     "text": [
      "/Library/Frameworks/Python.framework/Versions/3.6/lib/python3.6/site-packages/h5py/__init__.py:36: FutureWarning: Conversion of the second argument of issubdtype from `float` to `np.floating` is deprecated. In future, it will be treated as `np.float64 == np.dtype(float).type`.\n",
      "  from ._conv import register_converters as _register_converters\n",
      "Using TensorFlow backend.\n"
     ]
    }
   ],
   "source": [
    "import numpy as np\n",
    "import sys\n",
    "sys.path.append('utils/')\n",
    "from keras.models import Sequential\n",
    "import keras\n",
    "from keras import optimizers\n",
    "from keras.callbacks import ReduceLROnPlateau, EarlyStopping\n",
    "from keras.preprocessing.image import ImageDataGenerator\n",
    "from keras.models import Model\n",
    "from keras.layers import Lambda, concatenate, Activation\n",
    "from keras.layers import Conv2D, MaxPooling2D, BatchNormalization, Flatten, Dense\n",
    "from keras.losses import categorical_crossentropy as logloss\n",
    "from keras.metrics import categorical_accuracy, top_k_categorical_accuracy\n",
    "from keras import backend as K\n",
    "import h5py\n",
    "import matplotlib.pyplot as plt"
   ]
  },
  {
   "cell_type": "code",
   "execution_count": 3,
   "metadata": {},
   "outputs": [],
   "source": [
    "\n",
    "h5f_t = h5py.File('vggmodel_train/trainset.h5', 'r')\n",
    "x_train = h5f_t['dataset_1'][:]\n",
    "h5f_t.close()\n",
    "\n",
    "h5f_t = h5py.File('vggmodel_train/train_logits.h5', 'r')\n",
    "train_logits = h5f_t['dataset_1'][:]\n",
    "h5f_t.close()\n",
    "\n",
    "h5f_t = h5py.File('vggmodel_train/valset.h5', 'r')\n",
    "x_val = h5f_t['dataset_1'][:]\n",
    "h5f_t.close()\n",
    "\n",
    "h5f_t = h5py.File('vggmodel_train/val_logits.h5', 'r')\n",
    "val_logits = h5f_t['dataset_1'][:]\n",
    "h5f_t.close()\n"
   ]
  },
  {
   "cell_type": "code",
   "execution_count": 4,
   "metadata": {},
   "outputs": [
    {
     "name": "stdout",
     "output_type": "stream",
     "text": [
      "_________________________________________________________________\n",
      "Layer (type)                 Output Shape              Param #   \n",
      "=================================================================\n",
      "conv2d_1 (Conv2D)            (None, 28, 28, 64)        4864      \n",
      "_________________________________________________________________\n",
      "max_pooling2d_1 (MaxPooling2 (None, 14, 14, 64)        0         \n",
      "_________________________________________________________________\n",
      "batch_normalization_1 (Batch (None, 14, 14, 64)        256       \n",
      "_________________________________________________________________\n",
      "conv2d_2 (Conv2D)            (None, 10, 10, 64)        102464    \n",
      "_________________________________________________________________\n",
      "batch_normalization_2 (Batch (None, 10, 10, 64)        256       \n",
      "_________________________________________________________________\n",
      "max_pooling2d_2 (MaxPooling2 (None, 5, 5, 64)          0         \n",
      "_________________________________________________________________\n",
      "flatten_1 (Flatten)          (None, 1600)              0         \n",
      "_________________________________________________________________\n",
      "dense_1 (Dense)              (None, 256)               409856    \n",
      "_________________________________________________________________\n",
      "dense_2 (Dense)              (None, 96)                24672     \n",
      "_________________________________________________________________\n",
      "dense_3 (Dense)              (None, 10)                970       \n",
      "_________________________________________________________________\n",
      "activation_1 (Activation)    (None, 10)                0         \n",
      "=================================================================\n",
      "Total params: 543,338\n",
      "Trainable params: 543,082\n",
      "Non-trainable params: 256\n",
      "_________________________________________________________________\n"
     ]
    }
   ],
   "source": [
    "#data augmentation\n",
    "datagen = ImageDataGenerator()  # randomly flip images\n",
    "train_generator = datagen.flow(x_train,train_logits , batch_size=64)\n",
    "val_generator = datagen.flow(x_val,val_logits , batch_size=64,shuffle=True)\n",
    "\n",
    "# create student model\n",
    "num_classes = 10\n",
    "model = Sequential()\n",
    "model.add(Conv2D(64, kernel_size=(5, 5),\n",
    "                 activation='relu',\n",
    "                 input_shape=(32, 32, 3)))\n",
    "model.add(MaxPooling2D(pool_size=(2, 2),strides=(2, 2)))\n",
    "model.add(BatchNormalization())\n",
    "model.add(Conv2D(64, kernel_size=(5, 5),\n",
    "                 activation='relu'))\n",
    "model.add(BatchNormalization())\n",
    "model.add(MaxPooling2D(pool_size=(2, 2),strides=(2, 2)))\n",
    "model.add(Flatten())\n",
    "model.add(Dense(256, activation='relu'))\n",
    "model.add(Dense(96, activation='relu'))\n",
    "model.add(Dense(num_classes))\n",
    "model.add(Activation('softmax'))\n",
    "model.summary()"
   ]
  },
  {
   "cell_type": "code",
   "execution_count": 5,
   "metadata": {},
   "outputs": [],
   "source": [
    "temperature  = 5.0\n",
    "# remove softmax\n",
    "model.layers.pop()\n",
    "\n",
    "# usual probabilities\n",
    "logits = model.layers[-1].output\n",
    "probabilities = Activation('softmax')(logits)\n",
    "\n",
    "# softed probabilities\n",
    "logits_T = Lambda(lambda x: x/temperature)(logits)\n",
    "probabilities_T = Activation('softmax')(logits_T)\n",
    "\n",
    "output = concatenate([probabilities, probabilities_T])\n",
    "model = Model(model.input, output)\n",
    "# now model outputs 512 dimensional vectors"
   ]
  },
  {
   "cell_type": "code",
   "execution_count": 6,
   "metadata": {},
   "outputs": [],
   "source": [
    "def knowledge_distillation_loss(y_true, y_pred, lambda_const):    \n",
    "    y_true, logits = y_true[:,:10], y_true[:,10:]\n",
    "    # convert logits to soft targets\n",
    "    y_soft = K.softmax(logits/temperature)\n",
    "    y_pred, y_pred_soft = y_pred[:, 10:], y_pred[:, :10]    \n",
    "    return lambda_const*logloss(y_true, y_pred) + logloss(y_soft, y_pred_soft)\n",
    "def accuracy(y_true, y_pred):\n",
    "    y_true = y_true[:,:10]\n",
    "    y_pred = y_pred[:, 10:]\n",
    "    return categorical_accuracy(y_true, y_pred)\n",
    "def top_5_accuracy(y_true, y_pred):\n",
    "    y_true = y_true[:,:10]\n",
    "    y_pred = y_pred[:, 10:]\n",
    "    return top_k_categorical_accuracy(y_true, y_pred)\n",
    "def categorical_crossentropy(y_true, y_pred):\n",
    "    y_true = y_true[:,:10]\n",
    "    y_pred = y_pred[:, 10:]\n",
    "    return logloss(y_true, y_pred)\n",
    "def soft_logloss(y_true, y_pred):\n",
    "    logits = y_true[:,10:]   \n",
    "    y_soft = K.softmax(logits/temperature)\n",
    "    y_pred_soft = y_pred[:, :10]    \n",
    "    return logloss(y_soft, y_pred_soft)"
   ]
  },
  {
   "cell_type": "code",
   "execution_count": 7,
   "metadata": {},
   "outputs": [
    {
     "name": "stderr",
     "output_type": "stream",
     "text": [
      "/Library/Frameworks/Python.framework/Versions/3.6/lib/python3.6/site-packages/keras/callbacks.py:999: UserWarning: `epsilon` argument is deprecated and will be removed, use `min_delta` instead.\n",
      "  warnings.warn('`epsilon` argument is deprecated and '\n"
     ]
    },
    {
     "name": "stdout",
     "output_type": "stream",
     "text": [
      "Epoch 1/30\n",
      "400/400 [==============================] - 109s 273ms/step - loss: 2.1538 - accuracy: 0.5015 - top_5_accuracy: 0.9336 - categorical_crossentropy: -2.2353 - soft_logloss: 2.3103 - val_loss: 2.1617 - val_accuracy: 0.4186 - val_top_5_accuracy: 0.8777 - val_categorical_crossentropy: -2.1616 - val_soft_logloss: 2.3130\n",
      "Epoch 2/30\n",
      "400/400 [==============================] - 119s 298ms/step - loss: 2.1494 - accuracy: 0.6010 - top_5_accuracy: 0.9721 - categorical_crossentropy: -2.3002 - soft_logloss: 2.3104 - val_loss: 2.1547 - val_accuracy: 0.5645 - val_top_5_accuracy: 0.9678 - val_categorical_crossentropy: -2.2410 - val_soft_logloss: 2.3115\n",
      "Epoch 3/30\n",
      "400/400 [==============================] - 104s 260ms/step - loss: 2.1485 - accuracy: 0.6316 - top_5_accuracy: 0.9759 - categorical_crossentropy: -2.3115 - soft_logloss: 2.3103 - val_loss: 2.1551 - val_accuracy: 0.5621 - val_top_5_accuracy: 0.9689 - val_categorical_crossentropy: -2.2394 - val_soft_logloss: 2.3119\n",
      "Epoch 4/30\n",
      "400/400 [==============================] - 104s 260ms/step - loss: 2.1480 - accuracy: 0.6488 - top_5_accuracy: 0.9788 - categorical_crossentropy: -2.3180 - soft_logloss: 2.3102 - val_loss: 2.1539 - val_accuracy: 0.5646 - val_top_5_accuracy: 0.9646 - val_categorical_crossentropy: -2.2333 - val_soft_logloss: 2.3103\n",
      "Epoch 5/30\n",
      "400/400 [==============================] - 105s 262ms/step - loss: 2.1475 - accuracy: 0.6667 - top_5_accuracy: 0.9798 - categorical_crossentropy: -2.3236 - soft_logloss: 2.3101 - val_loss: 2.1524 - val_accuracy: 0.6211 - val_top_5_accuracy: 0.9787 - val_categorical_crossentropy: -2.2594 - val_soft_logloss: 2.3106\n",
      "Epoch 6/30\n",
      "400/400 [==============================] - 105s 261ms/step - loss: 2.1474 - accuracy: 0.6698 - top_5_accuracy: 0.9814 - categorical_crossentropy: -2.3250 - soft_logloss: 2.3101 - val_loss: 2.1526 - val_accuracy: 0.6109 - val_top_5_accuracy: 0.9762 - val_categorical_crossentropy: -2.2549 - val_soft_logloss: 2.3104\n",
      "Epoch 7/30\n",
      "400/400 [==============================] - 105s 262ms/step - loss: 2.1473 - accuracy: 0.6695 - top_5_accuracy: 0.9805 - categorical_crossentropy: -2.3257 - soft_logloss: 2.3101 - val_loss: 2.1524 - val_accuracy: 0.6217 - val_top_5_accuracy: 0.9787 - val_categorical_crossentropy: -2.2592 - val_soft_logloss: 2.3105\n",
      "Epoch 8/30\n",
      "400/400 [==============================] - 108s 270ms/step - loss: 2.1473 - accuracy: 0.6718 - top_5_accuracy: 0.9810 - categorical_crossentropy: -2.3259 - soft_logloss: 2.3101 - val_loss: 2.1523 - val_accuracy: 0.6191 - val_top_5_accuracy: 0.9793 - val_categorical_crossentropy: -2.2605 - val_soft_logloss: 2.3105\n",
      "Epoch 9/30\n",
      "400/400 [==============================] - 106s 265ms/step - loss: 2.1473 - accuracy: 0.6734 - top_5_accuracy: 0.9802 - categorical_crossentropy: -2.3263 - soft_logloss: 2.3101 - val_loss: 2.1523 - val_accuracy: 0.6217 - val_top_5_accuracy: 0.9783 - val_categorical_crossentropy: -2.2617 - val_soft_logloss: 2.3106\n"
     ]
    },
    {
     "data": {
      "text/plain": [
       "<keras.callbacks.History at 0x1287f2080>"
      ]
     },
     "execution_count": 7,
     "metadata": {},
     "output_type": "execute_result"
    }
   ],
   "source": [
    "lambda_const = 0.07\n",
    "model.compile(\n",
    "    optimizer=optimizers.SGD(lr=1e-1, momentum=0.9, nesterov=True), \n",
    "    loss=lambda y_true, y_pred: knowledge_distillation_loss(y_true, y_pred, lambda_const), \n",
    "    metrics=[accuracy, top_5_accuracy, categorical_crossentropy, soft_logloss]\n",
    ")\n",
    "\n",
    "model.fit_generator(\n",
    "    train_generator, \n",
    "    steps_per_epoch=400, epochs=30, verbose=1,\n",
    "    callbacks=[\n",
    "        EarlyStopping(monitor='val_accuracy', patience=4, min_delta=0.01), \n",
    "        ReduceLROnPlateau(monitor='val_accuracy', factor=0.1, patience=2, epsilon=0.007)\n",
    "    ],\n",
    "    validation_data=val_generator, validation_steps=80\n",
    ")"
   ]
  },
  {
   "cell_type": "code",
   "execution_count": 8,
   "metadata": {},
   "outputs": [
    {
     "data": {
      "text/plain": [
       "<module 'matplotlib.pyplot' from '/Library/Frameworks/Python.framework/Versions/3.6/lib/python3.6/site-packages/matplotlib/pyplot.py'>"
      ]
     },
     "execution_count": 8,
     "metadata": {},
     "output_type": "execute_result"
    },
    {
     "data": {
      "image/png": "[encoded data removed]",
      "text/plain": [
       "<matplotlib.figure.Figure at 0x1406d3828>"
      ]
     },
     "metadata": {
      "needs_background": "light"
     },
     "output_type": "display_data"
    }
   ],
   "source": [
    "plt.plot(model.history.history['categorical_crossentropy'], label='train')\n",
    "plt.plot(model.history.history['val_categorical_crossentropy'], label='val')\n",
    "plt.legend()\n",
    "plt.xlabel('epoch')\n",
    "plt.ylabel('logloss')\n",
    "plt\n",
    "\n",
    "plt.plot(model.history.history['accuracy'], label='train')\n",
    "plt.plot(model.history.history['val_accuracy'], label='val')\n",
    "plt.legend()\n",
    "plt.xlabel('epoch')\n",
    "plt.ylabel('accuracy')\n",
    "plt\n",
    "\n",
    "plt.plot(model.history.history['top_5_accuracy'], label='train')\n",
    "plt.plot(model.history.history['val_top_5_accuracy'], label='val')\n",
    "plt.legend()\n",
    "plt.xlabel('epoch')\n",
    "plt.ylabel('top5_accuracy')\n",
    "plt"
   ]
  },
  {
   "cell_type": "code",
   "execution_count": 12,
   "metadata": {},
   "outputs": [
    {
     "name": "stdout",
     "output_type": "stream",
     "text": [
      "[2.152306741476059, 0.6216796875, 0.9783203125, -2.2616605116054416, 2.310622960329056]\n"
     ]
    }
   ],
   "source": [
    "val_generator = datagen.flow(x_val, val_logits, batch_size=64,shuffle=False)\n",
    "print(model.evaluate_generator(val_generator, 80))"
   ]
  },
  {
   "cell_type": "code",
   "execution_count": null,
   "metadata": {},
   "outputs": [],
   "source": []
  }
 ],
 "metadata": {
  "kernelspec": {
   "display_name": "Python 3",
   "language": "python",
   "name": "python3"
  },
  "language_info": {
   "codemirror_mode": {
    "name": "ipython",
    "version": 3
   },
   "file_extension": ".py",
   "mimetype": "text/x-python",
   "name": "python",
   "nbconvert_exporter": "python",
   "pygments_lexer": "ipython3",
   "version": "3.6.1"
  }
 },
 "nbformat": 4,
 "nbformat_minor": 2
}
